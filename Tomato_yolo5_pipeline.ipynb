{
 "cells": [
  {
   "cell_type": "code",
   "execution_count": null,
   "id": "905153d8-a430-4b36-b08f-00bd3f026487",
   "metadata": {},
   "outputs": [],
   "source": [
    "##Tomato Leaf Disease Detection using YOLOv5\n",
    "\n",
    "# ✅ Step 1: Resize Images (Optional: if already resized, skip this)\n",
    "from PIL import Image\n",
    "from pathlib import Path\n",
    "import os\n"
   ]
  },
  {
   "cell_type": "code",
   "execution_count": null,
   "id": "cd5b0091-2a91-43e6-a579-08600209a45e",
   "metadata": {},
   "outputs": [],
   "source": [
    "base_path = \"/home/user/Downloads/Tomato_leaf_diseases_dataset_for_Object_Detection/Dataset without augmentation\"\n",
    "resize_to = (640, 640)\n",
    "subdirs = ['train', 'valid', 'test']"
   ]
  },
  {
   "cell_type": "code",
   "execution_count": null,
   "id": "33420ff8-6933-4378-a176-3fdafc084e78",
   "metadata": {},
   "outputs": [],
   "source": [
    "def resize_images(folder_name):\n",
    "    img_dir = Path(f\"{base_path}/{folder_name}/images\")\n",
    "    count = 0\n",
    "    for img_path in img_dir.glob('*.*'):\n",
    "        try:\n",
    "            img = Image.open(img_path).convert('RGB')\n",
    "            img = img.resize(resize_to)\n",
    "            img.save(img_path)  # overwrite\n",
    "            count += 1\n",
    "        except Exception as e:\n",
    "            print(f\"❌ Error processing {img_path.name}: {e}\")\n",
    "    print(f\" Resized {count} images in {folder_name}/images\")\n",
    "\n",
    "for folder in subdirs:\n",
    "    resize_images(folder)"
   ]
  },
  {
   "cell_type": "code",
   "execution_count": null,
   "id": "79e40f43-2dc2-4e04-b0ce-ddb9de1586dc",
   "metadata": {},
   "outputs": [],
   "source": [
    "# ✅ Step 2: Validate the Trained Model (Already Trained)\n",
    "!python val.py \\\n",
    "  --weights runs/train/tomato_disease_yolov5/weights/best.pt \\\n",
    "  --data \"/home/user/Downloads/Tomato_leaf_diseases_dataset_for_Object_Detection/Dataset without augmentation/data.yaml\" \\\n",
    "  --img 640 \\\n",
    "  --task test \\\n",
    "  --name eval_stats \\\n",
    "  --save-json \\\n",
    "  --save-hybrid \\\n",
    "  --exist-ok"
   ]
  },
  {
   "cell_type": "code",
   "execution_count": null,
   "id": "37dade8f-0ecf-4b66-b0f2-0092a2ad7082",
   "metadata": {},
   "outputs": [],
   "source": [
    "# ✅ Step 3: Display Evaluation Metrics\n",
    "results_path = 'runs/val/eval_stats/results.txt'\n",
    "with open(results_path, 'r') as f:\n",
    "    for line in f:\n",
    "        print(line.strip())"
   ]
  },
  {
   "cell_type": "code",
   "execution_count": null,
   "id": "45684f09-6bdf-4bbd-a4cd-864c8271bd69",
   "metadata": {},
   "outputs": [],
   "source": [
    "# ✅ Step 4: Plot Evaluation Curves\n",
    "from IPython.display import Image, display\n",
    "plot_dir = 'runs/val/eval_stats'\n",
    "for plot in [\"confusion_matrix.png\", \"F1_curve.png\", \"PR_curve.png\", \"results.png\"]:\n",
    "    display(Image(filename=os.path.join(plot_dir, plot)))"
   ]
  },
  {
   "cell_type": "code",
   "execution_count": null,
   "id": "85f7bc79-5b07-4473-8a37-fad49975ff99",
   "metadata": {},
   "outputs": [],
   "source": [
    "# ✅ Step 5: Run Inference on Test Images\n",
    "!python detect.py \\\n",
    "  --weights runs/train/tomato_disease_yolov5/weights/best.pt \\\n",
    "  --img 640 \\\n",
    "  --conf 0.25 \\\n",
    "  --source \"/home/user/Downloads/Tomato_leaf_diseases_dataset_for_Object_Detection/Dataset without augmentation/test/images\" \\\n",
    "  --name tomato_disease_predictions \\\n",
    "  --save-txt \\\n",
    "  --save-conf \\\n",
    "  --exist-ok \\\n",
    "  --save-crop \\\n",
    "  --save"
   ]
  },
  {
   "cell_type": "code",
   "execution_count": null,
   "id": "5563aa4f-3ee2-40ca-b467-7e813241dcd3",
   "metadata": {},
   "outputs": [],
   "source": [
    "# ✅ Step 6: Display Inference Results\n",
    "pred_dir = 'runs/detect/tomato_disease_predictions'\n",
    "img_files = [os.path.join(pred_dir, f) for f in os.listdir(pred_dir) if f.endswith('.jpg')]\n",
    "for img_path in img_files[:5]:\n",
    "    display(Image(filename=img_path))"
   ]
  }
 ],
 "metadata": {
  "kernelspec": {
   "display_name": "Python 3 (ipykernel)",
   "language": "python",
   "name": "python3"
  },
  "language_info": {
   "codemirror_mode": {
    "name": "ipython",
    "version": 3
   },
   "file_extension": ".py",
   "mimetype": "text/x-python",
   "name": "python",
   "nbconvert_exporter": "python",
   "pygments_lexer": "ipython3",
   "version": "3.10.18"
  }
 },
 "nbformat": 4,
 "nbformat_minor": 5
}
